{
 "cells": [
  {
   "cell_type": "code",
   "execution_count": 5,
   "metadata": {},
   "outputs": [],
   "source": [
    "# Dependencies\n",
    "import requests\n",
    "from pprint import pprint\n",
    "\n",
    "url = \"http://www.omdbapi.com/?apikey=trilogy&t=\"\n"
   ]
  },
  {
   "cell_type": "code",
   "execution_count": 26,
   "metadata": {},
   "outputs": [
    {
     "data": {
      "text/plain": [
       "{'Title': '50 First Dates',\n",
       " 'Year': '2004',\n",
       " 'Rated': 'PG-13',\n",
       " 'Released': '13 Feb 2004',\n",
       " 'Runtime': '99 min',\n",
       " 'Genre': 'Comedy, Drama, Romance',\n",
       " 'Director': 'Peter Segal',\n",
       " 'Writer': 'George Wing',\n",
       " 'Actors': 'Adam Sandler, Drew Barrymore, Rob Schneider, Sean Astin',\n",
       " 'Plot': \"Henry Roth is a man afraid of commitment up until he meets the beautiful Lucy. They hit it off and Henry think he's finally found the girl of his dreams, until he discovers she has short-term memory loss and forgets him the next day.\",\n",
       " 'Language': 'English, Hawaiian, Mandarin, None',\n",
       " 'Country': 'USA',\n",
       " 'Awards': '6 wins & 10 nominations.',\n",
       " 'Poster': 'https://m.media-amazon.com/images/M/MV5BMjAwMzc4MDgxNF5BMl5BanBnXkFtZTYwNjUwMzE3._V1_SX300.jpg',\n",
       " 'Ratings': [{'Source': 'Internet Movie Database', 'Value': '6.8/10'},\n",
       "  {'Source': 'Rotten Tomatoes', 'Value': '45%'},\n",
       "  {'Source': 'Metacritic', 'Value': '48/100'}],\n",
       " 'Metascore': '48',\n",
       " 'imdbRating': '6.8',\n",
       " 'imdbVotes': '303,772',\n",
       " 'imdbID': 'tt0343660',\n",
       " 'Type': 'movie',\n",
       " 'DVD': '15 Jun 2004',\n",
       " 'BoxOffice': '$120,776,832',\n",
       " 'Production': 'Sony Pictures',\n",
       " 'Website': 'http://www.sonypictures.com/movies/50firstdates/index.html',\n",
       " 'Response': 'True'}"
      ]
     },
     "execution_count": 26,
     "metadata": {},
     "output_type": "execute_result"
    }
   ],
   "source": [
    "# Who was the director of the movie Aliens?\n",
    "movie_name = \"50 first dates\"\n",
    "url_final = url + movie_name\n",
    "response = requests.get(url_final)\n",
    "data = response.json()\n",
    "\n",
    "data"
   ]
  },
  {
   "cell_type": "code",
   "execution_count": 15,
   "metadata": {
    "scrolled": true
   },
   "outputs": [
    {
     "name": "stdout",
     "output_type": "stream",
     "text": [
      "R\n"
     ]
    }
   ],
   "source": [
    "# What was the movie Gladiator rated?\n",
    "movie = requests.get(url + \"Gladiator\").json()\n",
    "#print(movie)\n",
    "print(movie[\"Rated\"])"
   ]
  },
  {
   "cell_type": "code",
   "execution_count": null,
   "metadata": {},
   "outputs": [],
   "source": [
    "# What year was 50 First Dates released?"
   ]
  },
  {
   "cell_type": "code",
   "execution_count": null,
   "metadata": {
    "scrolled": true
   },
   "outputs": [],
   "source": [
    "# Who wrote Moana?"
   ]
  },
  {
   "cell_type": "code",
   "execution_count": null,
   "metadata": {
    "scrolled": true
   },
   "outputs": [],
   "source": [
    "# What was the plot of the movie Sing?"
   ]
  }
 ],
 "metadata": {
  "kernelspec": {
   "display_name": "Python 3",
   "language": "python",
   "name": "python3"
  },
  "language_info": {
   "codemirror_mode": {
    "name": "ipython",
    "version": 3
   },
   "file_extension": ".py",
   "mimetype": "text/x-python",
   "name": "python",
   "nbconvert_exporter": "python",
   "pygments_lexer": "ipython3",
   "version": "3.7.3"
  },
  "varInspector": {
   "cols": {
    "lenName": 16,
    "lenType": 16,
    "lenVar": 40
   },
   "kernels_config": {
    "python": {
     "delete_cmd_postfix": "",
     "delete_cmd_prefix": "del ",
     "library": "var_list.py",
     "varRefreshCmd": "print(var_dic_list())"
    },
    "r": {
     "delete_cmd_postfix": ") ",
     "delete_cmd_prefix": "rm(",
     "library": "var_list.r",
     "varRefreshCmd": "cat(var_dic_list()) "
    }
   },
   "types_to_exclude": [
    "module",
    "function",
    "builtin_function_or_method",
    "instance",
    "_Feature"
   ],
   "window_display": false
  }
 },
 "nbformat": 4,
 "nbformat_minor": 2
}
