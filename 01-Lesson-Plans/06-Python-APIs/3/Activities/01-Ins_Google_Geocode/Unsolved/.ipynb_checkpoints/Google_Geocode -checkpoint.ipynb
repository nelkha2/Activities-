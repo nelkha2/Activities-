{
 "cells": [
  {
   "cell_type": "code",
   "execution_count": 2,
   "metadata": {},
   "outputs": [],
   "source": [
    "# Dependencies\n",
    "import requests\n",
    "import json\n",
    "\n",
    "# Google developer API key\n",
    "from config import gkey\n",
    "\n",
    "# Target city\n",
    "target_city = \"Boise, Idaho\"\n",
    "\n",
    "# Build the endpoint URL\n",
    "target_url = ('https://maps.googleapis.com/maps/api/geocode/json?'\n",
    "    'address={0}&key={1}').format(target_city, gkey)"
   ]
  },
  {
   "cell_type": "code",
   "execution_count": 5,
   "metadata": {},
   "outputs": [
    {
     "data": {
      "text/plain": [
       "{'results': [{'address_components': [{'long_name': 'Boise',\n",
       "     'short_name': 'Boise',\n",
       "     'types': ['locality', 'political']},\n",
       "    {'long_name': 'Ada County',\n",
       "     'short_name': 'Ada County',\n",
       "     'types': ['administrative_area_level_2', 'political']},\n",
       "    {'long_name': 'Idaho',\n",
       "     'short_name': 'ID',\n",
       "     'types': ['administrative_area_level_1', 'political']},\n",
       "    {'long_name': 'United States',\n",
       "     'short_name': 'US',\n",
       "     'types': ['country', 'political']}],\n",
       "   'formatted_address': 'Boise, ID, USA',\n",
       "   'geometry': {'bounds': {'northeast': {'lat': 43.6898951,\n",
       "      'lng': -116.1019091},\n",
       "     'southwest': {'lat': 43.511717, 'lng': -116.3658869}},\n",
       "    'location': {'lat': 43.6150186, 'lng': -116.2023137},\n",
       "    'location_type': 'APPROXIMATE',\n",
       "    'viewport': {'northeast': {'lat': 43.6898951, 'lng': -116.1019091},\n",
       "     'southwest': {'lat': 43.511717, 'lng': -116.3658869}}},\n",
       "   'place_id': 'ChIJnbRH6XLxrlQRm51nNpuYW5o',\n",
       "   'types': ['locality', 'political']}],\n",
       " 'status': 'OK'}"
      ]
     },
     "execution_count": 5,
     "metadata": {},
     "output_type": "execute_result"
    }
   ],
   "source": [
    "# Run a request to endpoint and convert result to json\n",
    "geo_response = requests.get(target_url)\n",
    "geo_data = geo_response.json()\n",
    "\n",
    "# Print the json\n",
    "geo_data"
   ]
  },
  {
   "cell_type": "code",
   "execution_count": null,
   "metadata": {
    "collapsed": true
   },
   "outputs": [],
   "source": [
    "# Print the json (pretty printed)"
   ]
  },
  {
   "cell_type": "code",
   "execution_count": null,
   "metadata": {
    "collapsed": true
   },
   "outputs": [],
   "source": [
    "# Extract latitude and longitude\n",
    "\n",
    "\n",
    "# Print the latitude and longitude"
   ]
  }
 ],
 "metadata": {
  "kernelspec": {
   "display_name": "Python 3",
   "language": "python",
   "name": "python3"
  },
  "language_info": {
   "codemirror_mode": {
    "name": "ipython",
    "version": 3
   },
   "file_extension": ".py",
   "mimetype": "text/x-python",
   "name": "python",
   "nbconvert_exporter": "python",
   "pygments_lexer": "ipython3",
   "version": "3.7.3"
  }
 },
 "nbformat": 4,
 "nbformat_minor": 2
}
