{
 "cells": [
  {
   "cell_type": "code",
   "execution_count": 1,
   "metadata": {},
   "outputs": [],
   "source": [
    "# Dependencies\n",
    "import json\n",
    "import requests "
   ]
  },
  {
   "cell_type": "code",
   "execution_count": 2,
   "metadata": {},
   "outputs": [
    {
     "name": "stdout",
     "output_type": "stream",
     "text": [
      "200\n"
     ]
    }
   ],
   "source": [
    "# Specify the URL\n",
    "url = \"http://nyt-mongo-scraper.herokuapp.com/api/headlines\"\n",
    "\n",
    "# Make request and store response\n",
    "response = requests.get(url)\n",
    "\n",
    "# Print status code\n",
    "print(response.status_code)"
   ]
  },
  {
   "cell_type": "code",
   "execution_count": 4,
   "metadata": {},
   "outputs": [
    {
     "data": {
      "text/plain": [
       "[{'saved': False,\n",
       "  '_id': '5d220c763ec2a3001519c8b5',\n",
       "  'headline': 'A Wedding With 47 Guests, Not Counting the Ghosts',\n",
       "  'summary': 'Joelle Lamberton and Drew Murphy share a love for Colorado’s old mining towns and the stories they tell.',\n",
       "  'url': 'https://www.nytimes.com/2019/07/05/style/a-ghost-town-wedding-with-47-guests-and-maybe-a-few-others.html',\n",
       "  'date': '2019-07-07T15:15:02.817Z',\n",
       "  '__v': 0},\n",
       " {'saved': False,\n",
       "  '_id': '5d220c763ec2a3001519c8b6',\n",
       "  'headline': 'The Book Lover’s Guide to Summer',\n",
       "  'summary': 'Here are 75 of the latest and greatest titles to keep you company as temperatures climb.',\n",
       "  'url': 'https://www.nytimes.com/interactive/2019/books/summer-reading.html',\n",
       "  'date': '2019-07-07T15:15:02.817Z',\n",
       "  '__v': 0},\n",
       " {'saved': False,\n",
       "  '_id': '5d220c763ec2a3001519c8b4',\n",
       "  'headline': 'It’s Nancy Pelosi’s Parade',\n",
       "  'summary': '“If the left doesn’t think I’m left enough, so be it,” she told me.',\n",
       "  'url': 'https://www.nytimes.com/2019/07/06/opinion/sunday/nancy-pelosi-pride-parade.html',\n",
       "  'date': '2019-07-07T15:15:02.816Z',\n",
       "  '__v': 0},\n",
       " {'saved': False,\n",
       "  '_id': '5d220c763ec2a3001519c8b2',\n",
       "  'headline': 'What’s the Title Worth? For U.S. Women, Six Figures and CountingThe U.S. team’s dominance has attracted attempts to police the joy of the players, our columnist writes.',\n",
       "  'summary': 'United States players can earn a total payday of roughly $250,000 by beating the Netherlands today, but additional bonuses are growing.',\n",
       "  'url': 'https://www.nytimes.com/2019/07/07/sports/soccer/womens-world-cup-bonuses.html',\n",
       "  'date': '2019-07-07T15:15:02.815Z',\n",
       "  '__v': 0},\n",
       " {'saved': False,\n",
       "  '_id': '5d220c763ec2a3001519c8b1',\n",
       "  'headline': 'Iran Announces New Breach of Nuclear Deal LimitsWhy This Strait Next to Iran Is Critical to the World’s Oil Supply',\n",
       "  'summary': 'Twenty percent of the global oil supply flows through the Strait of Hormuz. If current tensions persist, that flow could be threatened.',\n",
       "  'url': 'https://www.nytimes.com/2019/07/07/world/middleeast/iran-nuclear-limits-breach.html',\n",
       "  'date': '2019-07-07T15:15:02.815Z',\n",
       "  '__v': 0}]"
      ]
     },
     "execution_count": 4,
     "metadata": {},
     "output_type": "execute_result"
    }
   ],
   "source": [
    "# JSON-ify response\n",
    "response_json = response.json()\n",
    "response_json"
   ]
  },
  {
   "cell_type": "code",
   "execution_count": 4,
   "metadata": {
    "scrolled": true
   },
   "outputs": [
    {
     "name": "stdout",
     "output_type": "stream",
     "text": [
      "The first response is {\n",
      "  \"saved\": false,\n",
      "  \"_id\": \"5d20bfd0ba43ac0015dcbdaf\",\n",
      "  \"headline\": \"Wealth Matters at No. 500: Lessons Learned\",\n",
      "  \"summary\": \"This column was conceived in a world that was still frothy with 2007-level excess, but its goal has been to learn from the success (or flops) of others.\",\n",
      "  \"url\": \"https://www.nytimes.com/2019/07/05/your-money/wealth-lessons-500.html\",\n",
      "  \"date\": \"2019-07-06T15:35:44.031Z\",\n",
      "  \"__v\": 0\n",
      "}.\n",
      "The last response is {\n",
      "  \"saved\": false,\n",
      "  \"_id\": \"5d20bfd0ba43ac0015dcbdad\",\n",
      "  \"headline\": \"Rain, Flags, Flyovers and Fireworks \\u2014 The 4th of July in Washington\",\n",
      "  \"summary\": \"A photographer\\u2019s view of the celebration on the National Mall.\",\n",
      "  \"url\": \"https://www.nytimes.com/2019/07/05/opinion/editorials/july-4th-washington.html\",\n",
      "  \"date\": \"2019-07-06T15:35:44.030Z\",\n",
      "  \"__v\": 0\n",
      "}.\n"
     ]
    }
   ],
   "source": [
    "# Print first and last articles\n",
    "print(f\"The first response is {json.dumps(response_json[0], indent=2)}.\")\n",
    "print(f\"The last response is {json.dumps(response_json[-1], indent=2)}.\")"
   ]
  },
  {
   "cell_type": "code",
   "execution_count": 5,
   "metadata": {},
   "outputs": [
    {
     "name": "stdout",
     "output_type": "stream",
     "text": [
      "We received 4 responses.\n"
     ]
    }
   ],
   "source": [
    "print(f\"We received {len(response_json)} responses.\")"
   ]
  }
 ],
 "metadata": {
  "kernelspec": {
   "display_name": "Python 3",
   "language": "python",
   "name": "python3"
  },
  "language_info": {
   "codemirror_mode": {
    "name": "ipython",
    "version": 3
   },
   "file_extension": ".py",
   "mimetype": "text/x-python",
   "name": "python",
   "nbconvert_exporter": "python",
   "pygments_lexer": "ipython3",
   "version": "3.7.3"
  },
  "varInspector": {
   "cols": {
    "lenName": 16,
    "lenType": 16,
    "lenVar": 40
   },
   "kernels_config": {
    "python": {
     "delete_cmd_postfix": "",
     "delete_cmd_prefix": "del ",
     "library": "var_list.py",
     "varRefreshCmd": "print(var_dic_list())"
    },
    "r": {
     "delete_cmd_postfix": ") ",
     "delete_cmd_prefix": "rm(",
     "library": "var_list.r",
     "varRefreshCmd": "cat(var_dic_list()) "
    }
   },
   "types_to_exclude": [
    "module",
    "function",
    "builtin_function_or_method",
    "instance",
    "_Feature"
   ],
   "window_display": false
  }
 },
 "nbformat": 4,
 "nbformat_minor": 2
}
