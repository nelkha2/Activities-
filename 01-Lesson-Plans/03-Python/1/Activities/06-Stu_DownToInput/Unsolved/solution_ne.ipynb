## Basic Variables

## Instructions

* Create two different variables that will take the input of your first name and your neighbor's first name.
first_name = input("what is your first name?")
last_name = input("what is your last name?")

* Create two more inputs that will ask how many months each of you has been coding.
Coding = input("how long have you been coding for?")

* Finally, display a result with both your names and the total amount of months coding.
Print(first_name + " " + last_name + " " + "Coding months= " + str{Coding})

