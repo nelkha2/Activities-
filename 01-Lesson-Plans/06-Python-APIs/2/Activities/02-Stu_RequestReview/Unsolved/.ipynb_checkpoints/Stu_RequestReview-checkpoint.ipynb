{
 "cells": [
  {
   "cell_type": "code",
   "execution_count": 28,
   "metadata": {},
   "outputs": [],
   "source": [
    "# Dependencies\n",
    "import json\n",
    "import requests "
   ]
  },
  {
   "cell_type": "code",
   "execution_count": 17,
   "metadata": {},
   "outputs": [],
   "source": [
    "# Specify the URL\n",
    "url = 'http://nyt-mongo-scraper.herokuapp.com/api/headlines'\n",
    "# Make request and store response\n",
    "response = requests.get(url)\n",
    "data = response.json()\n",
    "\n"
   ]
  },
  {
   "cell_type": "code",
   "execution_count": 18,
   "metadata": {},
   "outputs": [
    {
     "data": {
      "text/plain": [
       "[{'saved': False,\n",
       "  '_id': '5d220c763ec2a3001519c8b5',\n",
       "  'headline': 'A Wedding With 47 Guests, Not Counting the Ghosts',\n",
       "  'summary': 'Joelle Lamberton and Drew Murphy share a love for Colorado’s old mining towns and the stories they tell.',\n",
       "  'url': 'https://www.nytimes.com/2019/07/05/style/a-ghost-town-wedding-with-47-guests-and-maybe-a-few-others.html',\n",
       "  'date': '2019-07-07T15:15:02.817Z',\n",
       "  '__v': 0},\n",
       " {'saved': False,\n",
       "  '_id': '5d220c763ec2a3001519c8b6',\n",
       "  'headline': 'The Book Lover’s Guide to Summer',\n",
       "  'summary': 'Here are 75 of the latest and greatest titles to keep you company as temperatures climb.',\n",
       "  'url': 'https://www.nytimes.com/interactive/2019/books/summer-reading.html',\n",
       "  'date': '2019-07-07T15:15:02.817Z',\n",
       "  '__v': 0},\n",
       " {'saved': False,\n",
       "  '_id': '5d220c763ec2a3001519c8b4',\n",
       "  'headline': 'It’s Nancy Pelosi’s Parade',\n",
       "  'summary': '“If the left doesn’t think I’m left enough, so be it,” she told me.',\n",
       "  'url': 'https://www.nytimes.com/2019/07/06/opinion/sunday/nancy-pelosi-pride-parade.html',\n",
       "  'date': '2019-07-07T15:15:02.816Z',\n",
       "  '__v': 0},\n",
       " {'saved': False,\n",
       "  '_id': '5d220c763ec2a3001519c8b2',\n",
       "  'headline': 'What’s the Title Worth? For U.S. Women, Six Figures and CountingThe U.S. team’s dominance has attracted attempts to police the joy of the players, our columnist writes.',\n",
       "  'summary': 'United States players can earn a total payday of roughly $250,000 by beating the Netherlands today, but additional bonuses are growing.',\n",
       "  'url': 'https://www.nytimes.com/2019/07/07/sports/soccer/womens-world-cup-bonuses.html',\n",
       "  'date': '2019-07-07T15:15:02.815Z',\n",
       "  '__v': 0},\n",
       " {'saved': False,\n",
       "  '_id': '5d220c763ec2a3001519c8b1',\n",
       "  'headline': 'Iran Announces New Breach of Nuclear Deal LimitsWhy This Strait Next to Iran Is Critical to the World’s Oil Supply',\n",
       "  'summary': 'Twenty percent of the global oil supply flows through the Strait of Hormuz. If current tensions persist, that flow could be threatened.',\n",
       "  'url': 'https://www.nytimes.com/2019/07/07/world/middleeast/iran-nuclear-limits-breach.html',\n",
       "  'date': '2019-07-07T15:15:02.815Z',\n",
       "  '__v': 0}]"
      ]
     },
     "execution_count": 18,
     "metadata": {},
     "output_type": "execute_result"
    }
   ],
   "source": [
    "# JSON-ify response\n",
    "#print(json.dumps(data, indent=4, sort_keys=True))\n",
    "data"
   ]
  },
  {
   "cell_type": "code",
   "execution_count": 26,
   "metadata": {
    "scrolled": true
   },
   "outputs": [
    {
     "name": "stdout",
     "output_type": "stream",
     "text": [
      "first response is = {'saved': False, '_id': '5d220c763ec2a3001519c8b5', 'headline': 'A Wedding With 47 Guests, Not Counting the Ghosts', 'summary': 'Joelle Lamberton and Drew Murphy share a love for Colorado’s old mining towns and the stories they tell.', 'url': 'https://www.nytimes.com/2019/07/05/style/a-ghost-town-wedding-with-47-guests-and-maybe-a-few-others.html', 'date': '2019-07-07T15:15:02.817Z', '__v': 0}\n",
      "----------------------------------\n",
      "last response is = {'saved': False, '_id': '5d220c763ec2a3001519c8b1', 'headline': 'Iran Announces New Breach of Nuclear Deal LimitsWhy This Strait Next to Iran Is Critical to the World’s Oil Supply', 'summary': 'Twenty percent of the global oil supply flows through the Strait of Hormuz. If current tensions persist, that flow could be threatened.', 'url': 'https://www.nytimes.com/2019/07/07/world/middleeast/iran-nuclear-limits-breach.html', 'date': '2019-07-07T15:15:02.815Z', '__v': 0}\n"
     ]
    }
   ],
   "source": [
    "# Print first and last articles\n",
    "first_article = data[0]\n",
    "last_article = data[-1]\n",
    "print(f\"first response is = {first_article}\")\n",
    "print(\"----------------------------------\")\n",
    "print(f\"last response is = {last_article}\")\n"
   ]
  },
  {
   "cell_type": "code",
   "execution_count": 27,
   "metadata": {},
   "outputs": [
    {
     "data": {
      "text/plain": [
       "5"
      ]
     },
     "execution_count": 27,
     "metadata": {},
     "output_type": "execute_result"
    }
   ],
   "source": [
    "#Print the number of responses received.\n",
    "response_count = len(data)\n",
    "response_count"
   ]
  },
  {
   "cell_type": "code",
   "execution_count": null,
   "metadata": {},
   "outputs": [],
   "source": []
  }
 ],
 "metadata": {
  "kernelspec": {
   "display_name": "Python 3",
   "language": "python",
   "name": "python3"
  },
  "language_info": {
   "codemirror_mode": {
    "name": "ipython",
    "version": 3
   },
   "file_extension": ".py",
   "mimetype": "text/x-python",
   "name": "python",
   "nbconvert_exporter": "python",
   "pygments_lexer": "ipython3",
   "version": "3.7.3"
  },
  "varInspector": {
   "cols": {
    "lenName": 16,
    "lenType": 16,
    "lenVar": 40
   },
   "kernels_config": {
    "python": {
     "delete_cmd_postfix": "",
     "delete_cmd_prefix": "del ",
     "library": "var_list.py",
     "varRefreshCmd": "print(var_dic_list())"
    },
    "r": {
     "delete_cmd_postfix": ") ",
     "delete_cmd_prefix": "rm(",
     "library": "var_list.r",
     "varRefreshCmd": "cat(var_dic_list()) "
    }
   },
   "types_to_exclude": [
    "module",
    "function",
    "builtin_function_or_method",
    "instance",
    "_Feature"
   ],
   "window_display": false
  }
 },
 "nbformat": 4,
 "nbformat_minor": 2
}
