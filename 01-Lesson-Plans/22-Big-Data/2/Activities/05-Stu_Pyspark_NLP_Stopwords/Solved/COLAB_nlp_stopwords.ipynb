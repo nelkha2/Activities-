{
  "nbformat": 4,
  "nbformat_minor": 0,
  "metadata": {
    "kernelspec": {
      "display_name": "Python [default]",
      "language": "python",
      "name": "python3"
    },
    "language_info": {
      "codemirror_mode": {
        "name": "ipython",
        "version": 3
      },
      "file_extension": ".py",
      "mimetype": "text/x-python",
      "name": "python",
      "nbconvert_exporter": "python",
      "pygments_lexer": "ipython3",
      "version": "3.6.5"
    },
    "colab": {
      "name": "nlp_stopwords.ipynb",
      "provenance": []
    }
  },
  "cells": [
    {
      "cell_type": "code",
      "metadata": {
        "id": "5_fGECfwGROW",
        "colab_type": "code",
        "colab": {}
      },
      "source": [
        "!apt-get install openjdk-8-jdk-headless -qq > /dev/null\n",
        "!wget -q http://www-eu.apache.org/dist/spark/spark-2.4.4/spark-2.4.4-bin-hadoop2.7.tgz\n",
        "!tar xf spark-2.4.4-bin-hadoop2.7.tgz\n",
        "!pip install -q findspark"
      ],
      "execution_count": 0,
      "outputs": []
    },
    {
      "cell_type": "code",
      "metadata": {
        "id": "fklQwymXGSEB",
        "colab_type": "code",
        "colab": {
          "base_uri": "https://localhost:8080/",
          "height": 85
        },
        "outputId": "f73d2dfd-aaf0-4215-99c0-0d00ed916e96"
      },
      "source": [
        "import os\n",
        "os.environ[\"JAVA_HOME\"] = \"/usr/lib/jvm/java-8-openjdk-amd64\"\n",
        "os.environ[\"SPARK_HOME\"] = \"/content/spark-2.4.4-bin-hadoop2.7\"\n",
        "!update-alternatives --set java /usr/lib/jvm/java-8-openjdk-amd64/jre/bin/java\n",
        "!java -version"
      ],
      "execution_count": 2,
      "outputs": [
        {
          "output_type": "stream",
          "text": [
            "update-alternatives: using /usr/lib/jvm/java-8-openjdk-amd64/jre/bin/java to provide /usr/bin/java (java) in manual mode\n",
            "openjdk version \"1.8.0_222\"\n",
            "OpenJDK Runtime Environment (build 1.8.0_222-8u222-b10-1ubuntu1~18.04.1-b10)\n",
            "OpenJDK 64-Bit Server VM (build 25.222-b10, mixed mode)\n"
          ],
          "name": "stdout"
        }
      ]
    },
    {
      "cell_type": "code",
      "metadata": {
        "id": "-4964cHtGGQe",
        "colab_type": "code",
        "colab": {}
      },
      "source": [
        "import findspark\n",
        "findspark.init(\"spark-2.4.4-bin-hadoop2.7\")# SPARK_HOME\n",
        "from pyspark.sql import SparkSession\n",
        "spark = SparkSession.builder.master(\"local[*]\").getOrCreate()\n",
        "from pyspark.ml.feature import Tokenizer, StopWordsRemover"
      ],
      "execution_count": 0,
      "outputs": []
    },
    {
      "cell_type": "code",
      "metadata": {
        "id": "r3VUsZrAGGQm",
        "colab_type": "code",
        "colab": {
          "base_uri": "https://localhost:8080/",
          "height": 204
        },
        "outputId": "b48cf980-a750-429a-a86e-2f3a465d91d8"
      },
      "source": [
        "\n",
        "# Read in data from S3 Buckets\n",
        "from pyspark import SparkFiles\n",
        "url =\"https://s3.amazonaws.com/dataviz-curriculum/day_2/food_reviews.csv\"\n",
        "spark.sparkContext.addFile(url)\n",
        "df = spark.read.csv(SparkFiles.get(\"food_reviews.csv\"), sep=\",\", header=True)\n",
        "\n",
        "# Show DataFrame\n",
        "df.show()"
      ],
      "execution_count": 4,
      "outputs": [
        {
          "output_type": "stream",
          "text": [
            "+--------------------+\n",
            "|             Reviews|\n",
            "+--------------------+\n",
            "|The pasta was a d...|\n",
            "|We ate the fish i...|\n",
            "|My family did not...|\n",
            "|The girl even tri...|\n",
            "|this is his job a...|\n",
            "|I'm always greete...|\n",
            "+--------------------+\n",
            "\n"
          ],
          "name": "stdout"
        }
      ]
    },
    {
      "cell_type": "code",
      "metadata": {
        "id": "NdvNJHHIGGQp",
        "colab_type": "code",
        "colab": {}
      },
      "source": [
        "\n",
        "# Tokenize DataFrame\n",
        "review_data = Tokenizer(inputCol=\"Reviews\", outputCol=\"Words\")"
      ],
      "execution_count": 0,
      "outputs": []
    },
    {
      "cell_type": "code",
      "metadata": {
        "id": "XvyciuJhGGQt",
        "colab_type": "code",
        "colab": {
          "base_uri": "https://localhost:8080/",
          "height": 204
        },
        "outputId": "2e571f55-5c10-4f69-b003-e6e34565d341"
      },
      "source": [
        "\n",
        "# Transform DataFrame\n",
        "reviewed = review_data.transform(df)\n",
        "reviewed.show()"
      ],
      "execution_count": 6,
      "outputs": [
        {
          "output_type": "stream",
          "text": [
            "+--------------------+--------------------+\n",
            "|             Reviews|               Words|\n",
            "+--------------------+--------------------+\n",
            "|The pasta was a d...|[the, pasta, was,...|\n",
            "|We ate the fish i...|[we, ate, the, fi...|\n",
            "|My family did not...|[my, family, did,...|\n",
            "|The girl even tri...|[the, girl, even,...|\n",
            "|this is his job a...|[this, is, his, j...|\n",
            "|I'm always greete...|[i'm, always, gre...|\n",
            "+--------------------+--------------------+\n",
            "\n"
          ],
          "name": "stdout"
        }
      ]
    },
    {
      "cell_type": "code",
      "metadata": {
        "id": "hw8vItBqGGQ0",
        "colab_type": "code",
        "colab": {}
      },
      "source": [
        "\n",
        "# Remove stop words\n",
        "remover = StopWordsRemover(inputCol=\"Words\", outputCol=\"filtered\")"
      ],
      "execution_count": 0,
      "outputs": []
    },
    {
      "cell_type": "code",
      "metadata": {
        "id": "NaZltfaqGGQ4",
        "colab_type": "code",
        "colab": {
          "base_uri": "https://localhost:8080/",
          "height": 204
        },
        "outputId": "bac8636a-a67b-45c4-ff8f-ecd8b55a655f"
      },
      "source": [
        "\n",
        "# Transform new DataFrame\n",
        "newFrame = remover.transform(reviewed)\n",
        "newFrame.show()"
      ],
      "execution_count": 8,
      "outputs": [
        {
          "output_type": "stream",
          "text": [
            "+--------------------+--------------------+--------------------+\n",
            "|             Reviews|               Words|            filtered|\n",
            "+--------------------+--------------------+--------------------+\n",
            "|The pasta was a d...|[the, pasta, was,...|       [pasta, dish]|\n",
            "|We ate the fish i...|[we, ate, the, fi...|  [ate, fish, tasty]|\n",
            "|My family did not...|[my, family, did,...|[family, like, food]|\n",
            "|The girl even tri...|[the, girl, even,...|[girl, even, trie...|\n",
            "|this is his job a...|[this, is, his, j...|[job, since, prob...|\n",
            "|I'm always greete...|[i'm, always, gre...|[always, greeted,...|\n",
            "+--------------------+--------------------+--------------------+\n",
            "\n"
          ],
          "name": "stdout"
        }
      ]
    },
    {
      "cell_type": "code",
      "metadata": {
        "id": "J4F53T9xGGQ7",
        "colab_type": "code",
        "colab": {
          "base_uri": "https://localhost:8080/",
          "height": 224
        },
        "outputId": "67d46d87-f0ed-4302-83a1-adeb942ad38d"
      },
      "source": [
        "\n",
        "# Show simplified review\n",
        "newFrame.select(\"filtered\").show(truncate=False)"
      ],
      "execution_count": 9,
      "outputs": [
        {
          "output_type": "stream",
          "text": [
            "+-----------------------------------------------------------------------------------------------------------------------------------------------------------------------------+\n",
            "|filtered                                                                                                                                                                     |\n",
            "+-----------------------------------------------------------------------------------------------------------------------------------------------------------------------------+\n",
            "|[pasta, dish]                                                                                                                                                                |\n",
            "|[ate, fish, tasty]                                                                                                                                                           |\n",
            "|[family, like, food]                                                                                                                                                         |\n",
            "|[girl, even, tried, spread, half, cover, roll.]                                                                                                                              |\n",
            "|[job, since, probably, slowest, time, day, least, expect, take, order, put, sandwich, through., course, apology., wait, woman, finish, couple, came, finally, got, sandwich.]|\n",
            "|[always, greeted, , employees, always, seem, eager, help.]                                                                                                                   |\n",
            "+-----------------------------------------------------------------------------------------------------------------------------------------------------------------------------+\n",
            "\n"
          ],
          "name": "stdout"
        }
      ]
    }
  ]
}