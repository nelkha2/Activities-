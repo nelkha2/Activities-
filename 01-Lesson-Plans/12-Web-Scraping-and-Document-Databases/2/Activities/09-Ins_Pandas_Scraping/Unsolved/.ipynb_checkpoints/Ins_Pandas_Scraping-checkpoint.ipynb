{
 "cells": [
  {
   "cell_type": "code",
   "execution_count": 2,
   "metadata": {},
   "outputs": [
    {
     "name": "stdout",
     "output_type": "stream",
     "text": [
      "Collecting Flask-PyMongo\n",
      "  Downloading https://files.pythonhosted.org/packages/67/b8/0322016b9ce09a64fba9018211e7c35fd51380527ffd9ea248744f389239/Flask_PyMongo-2.3.0-py2.py3-none-any.whl\n",
      "Requirement already satisfied: Flask>=0.11 in c:\\users\\nader\\anaconda3\\lib\\site-packages (from Flask-PyMongo) (1.0.2)\n",
      "Requirement already satisfied: PyMongo>=3.3 in c:\\users\\nader\\anaconda3\\lib\\site-packages (from Flask-PyMongo) (3.9.0)\n",
      "Requirement already satisfied: click>=5.1 in c:\\users\\nader\\anaconda3\\lib\\site-packages (from Flask>=0.11->Flask-PyMongo) (7.0)\n",
      "Requirement already satisfied: Jinja2>=2.10 in c:\\users\\nader\\anaconda3\\lib\\site-packages (from Flask>=0.11->Flask-PyMongo) (2.10)\n",
      "Requirement already satisfied: Werkzeug>=0.14 in c:\\users\\nader\\anaconda3\\lib\\site-packages (from Flask>=0.11->Flask-PyMongo) (0.14.1)\n",
      "Requirement already satisfied: itsdangerous>=0.24 in c:\\users\\nader\\anaconda3\\lib\\site-packages (from Flask>=0.11->Flask-PyMongo) (1.1.0)\n",
      "Requirement already satisfied: MarkupSafe>=0.23 in c:\\users\\nader\\anaconda3\\lib\\site-packages (from Jinja2>=2.10->Flask>=0.11->Flask-PyMongo) (1.1.1)\n",
      "Installing collected packages: Flask-PyMongo\n",
      "Successfully installed Flask-PyMongo-2.3.0\n"
     ]
    }
   ],
   "source": [
    "#$pip install Flask-PyMongo\n",
    "!pip install Flask-PyMongo"
   ]
  },
  {
   "cell_type": "markdown",
   "metadata": {
    "slideshow": {
     "slide_type": "slide"
    }
   },
   "source": [
    "# Scraping with Pandas"
   ]
  },
  {
   "cell_type": "code",
   "execution_count": null,
   "metadata": {
    "collapsed": true,
    "slideshow": {
     "slide_type": "slide"
    }
   },
   "outputs": [],
   "source": [
    "import pandas as pd"
   ]
  },
  {
   "cell_type": "markdown",
   "metadata": {
    "slideshow": {
     "slide_type": "subslide"
    }
   },
   "source": [
    "We can use the `read_html` function in Pandas to automatically scrape any tabular data from a page."
   ]
  },
  {
   "cell_type": "code",
   "execution_count": null,
   "metadata": {
    "collapsed": true,
    "slideshow": {
     "slide_type": "fragment"
    }
   },
   "outputs": [],
   "source": [
    "url = 'https://en.wikipedia.org/wiki/List_of_capitals_in_the_United_States'"
   ]
  }
 ],
 "metadata": {
  "celltoolbar": "Slideshow",
  "kernelspec": {
   "display_name": "Python 3",
   "language": "python",
   "name": "python3"
  },
  "language_info": {
   "codemirror_mode": {
    "name": "ipython",
    "version": 3
   },
   "file_extension": ".py",
   "mimetype": "text/x-python",
   "name": "python",
   "nbconvert_exporter": "python",
   "pygments_lexer": "ipython3",
   "version": "3.7.3"
  },
  "varInspector": {
   "cols": {
    "lenName": 16,
    "lenType": 16,
    "lenVar": 40
   },
   "kernels_config": {
    "python": {
     "delete_cmd_postfix": "",
     "delete_cmd_prefix": "del ",
     "library": "var_list.py",
     "varRefreshCmd": "print(var_dic_list())"
    },
    "r": {
     "delete_cmd_postfix": ") ",
     "delete_cmd_prefix": "rm(",
     "library": "var_list.r",
     "varRefreshCmd": "cat(var_dic_list()) "
    }
   },
   "types_to_exclude": [
    "module",
    "function",
    "builtin_function_or_method",
    "instance",
    "_Feature"
   ],
   "window_display": false
  }
 },
 "nbformat": 4,
 "nbformat_minor": 2
}
