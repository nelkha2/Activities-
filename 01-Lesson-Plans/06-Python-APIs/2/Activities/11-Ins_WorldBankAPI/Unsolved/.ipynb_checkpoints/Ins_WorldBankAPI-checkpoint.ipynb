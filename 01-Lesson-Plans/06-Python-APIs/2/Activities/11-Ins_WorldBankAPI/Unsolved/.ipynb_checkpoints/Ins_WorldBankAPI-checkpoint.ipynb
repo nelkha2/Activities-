{
 "cells": [
  {
   "cell_type": "code",
   "execution_count": 4,
   "metadata": {},
   "outputs": [
    {
     "data": {
      "text/plain": [
       "<Response [200]>"
      ]
     },
     "execution_count": 4,
     "metadata": {},
     "output_type": "execute_result"
    }
   ],
   "source": [
    "# Dependencies\n",
    "import requests\n",
    "\n",
    "url = \"http://api.worldbank.org/v2/\"\n",
    "format = \"json\"\n",
    "\n",
    "# Get country information in JSON format\n",
    "#http://api.worldbank.org/v2/country?format=json\n",
    "url_final = url + \"country?\" + \"format=\" + format\n",
    "response= requests.get(url_final)\n",
    "data = re\n",
    "\n",
    "# First element is general information, second is countries themselves"
   ]
  },
  {
   "cell_type": "code",
   "execution_count": null,
   "metadata": {},
   "outputs": [],
   "source": [
    "# Report the names"
   ]
  }
 ],
 "metadata": {
  "kernelspec": {
   "display_name": "Python 3",
   "language": "python",
   "name": "python3"
  },
  "language_info": {
   "codemirror_mode": {
    "name": "ipython",
    "version": 3
   },
   "file_extension": ".py",
   "mimetype": "text/x-python",
   "name": "python",
   "nbconvert_exporter": "python",
   "pygments_lexer": "ipython3",
   "version": "3.7.3"
  }
 },
 "nbformat": 4,
 "nbformat_minor": 2
}
