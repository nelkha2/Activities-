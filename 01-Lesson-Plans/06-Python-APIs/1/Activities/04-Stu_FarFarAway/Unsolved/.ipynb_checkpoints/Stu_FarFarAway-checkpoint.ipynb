{
 "cells": [
  {
   "cell_type": "code",
   "execution_count": 41,
   "metadata": {},
   "outputs": [],
   "source": [
    "# Dependencies\n",
    "import requests\n",
    "import json"
   ]
  },
  {
   "cell_type": "code",
   "execution_count": 42,
   "metadata": {},
   "outputs": [
    {
     "name": "stdout",
     "output_type": "stream",
     "text": [
      "{\n",
      "    \"count\": 87,\n",
      "    \"next\": \"https://swapi.co/api/people/?page=2\",\n",
      "    \"previous\": null,\n",
      "    \"results\": [\n",
      "        {\n",
      "            \"birth_year\": \"19BBY\",\n",
      "            \"created\": \"2014-12-09T13:50:51.644000Z\",\n",
      "            \"edited\": \"2014-12-20T21:17:56.891000Z\",\n",
      "            \"eye_color\": \"blue\",\n",
      "            \"films\": [\n",
      "                \"https://swapi.co/api/films/2/\",\n",
      "                \"https://swapi.co/api/films/6/\",\n",
      "                \"https://swapi.co/api/films/3/\",\n",
      "                \"https://swapi.co/api/films/1/\",\n",
      "                \"https://swapi.co/api/films/7/\"\n",
      "            ],\n",
      "            \"gender\": \"male\",\n",
      "            \"hair_color\": \"blond\",\n",
      "            \"height\": \"172\",\n",
      "            \"homeworld\": \"https://swapi.co/api/planets/1/\",\n",
      "            \"mass\": \"77\",\n",
      "            \"name\": \"Luke Skywalker\",\n",
      "            \"skin_color\": \"fair\",\n",
      "            \"species\": [\n",
      "                \"https://swapi.co/api/species/1/\"\n",
      "            ],\n",
      "            \"starships\": [\n",
      "                \"https://swapi.co/api/starships/12/\",\n",
      "                \"https://swapi.co/api/starships/22/\"\n",
      "            ],\n",
      "            \"url\": \"https://swapi.co/api/people/1/\",\n",
      "            \"vehicles\": [\n",
      "                \"https://swapi.co/api/vehicles/14/\",\n",
      "                \"https://swapi.co/api/vehicles/30/\"\n",
      "            ]\n",
      "        },\n",
      "        {\n",
      "            \"birth_year\": \"112BBY\",\n",
      "            \"created\": \"2014-12-10T15:10:51.357000Z\",\n",
      "            \"edited\": \"2014-12-20T21:17:50.309000Z\",\n",
      "            \"eye_color\": \"yellow\",\n",
      "            \"films\": [\n",
      "                \"https://swapi.co/api/films/2/\",\n",
      "                \"https://swapi.co/api/films/5/\",\n",
      "                \"https://swapi.co/api/films/4/\",\n",
      "                \"https://swapi.co/api/films/6/\",\n",
      "                \"https://swapi.co/api/films/3/\",\n",
      "                \"https://swapi.co/api/films/1/\"\n",
      "            ],\n",
      "            \"gender\": \"n/a\",\n",
      "            \"hair_color\": \"n/a\",\n",
      "            \"height\": \"167\",\n",
      "            \"homeworld\": \"https://swapi.co/api/planets/1/\",\n",
      "            \"mass\": \"75\",\n",
      "            \"name\": \"C-3PO\",\n",
      "            \"skin_color\": \"gold\",\n",
      "            \"species\": [\n",
      "                \"https://swapi.co/api/species/2/\"\n",
      "            ],\n",
      "            \"starships\": [],\n",
      "            \"url\": \"https://swapi.co/api/people/2/\",\n",
      "            \"vehicles\": []\n",
      "        },\n",
      "        {\n",
      "            \"birth_year\": \"33BBY\",\n",
      "            \"created\": \"2014-12-10T15:11:50.376000Z\",\n",
      "            \"edited\": \"2014-12-20T21:17:50.311000Z\",\n",
      "            \"eye_color\": \"red\",\n",
      "            \"films\": [\n",
      "                \"https://swapi.co/api/films/2/\",\n",
      "                \"https://swapi.co/api/films/5/\",\n",
      "                \"https://swapi.co/api/films/4/\",\n",
      "                \"https://swapi.co/api/films/6/\",\n",
      "                \"https://swapi.co/api/films/3/\",\n",
      "                \"https://swapi.co/api/films/1/\",\n",
      "                \"https://swapi.co/api/films/7/\"\n",
      "            ],\n",
      "            \"gender\": \"n/a\",\n",
      "            \"hair_color\": \"n/a\",\n",
      "            \"height\": \"96\",\n",
      "            \"homeworld\": \"https://swapi.co/api/planets/8/\",\n",
      "            \"mass\": \"32\",\n",
      "            \"name\": \"R2-D2\",\n",
      "            \"skin_color\": \"white, blue\",\n",
      "            \"species\": [\n",
      "                \"https://swapi.co/api/species/2/\"\n",
      "            ],\n",
      "            \"starships\": [],\n",
      "            \"url\": \"https://swapi.co/api/people/3/\",\n",
      "            \"vehicles\": []\n",
      "        },\n",
      "        {\n",
      "            \"birth_year\": \"41.9BBY\",\n",
      "            \"created\": \"2014-12-10T15:18:20.704000Z\",\n",
      "            \"edited\": \"2014-12-20T21:17:50.313000Z\",\n",
      "            \"eye_color\": \"yellow\",\n",
      "            \"films\": [\n",
      "                \"https://swapi.co/api/films/2/\",\n",
      "                \"https://swapi.co/api/films/6/\",\n",
      "                \"https://swapi.co/api/films/3/\",\n",
      "                \"https://swapi.co/api/films/1/\"\n",
      "            ],\n",
      "            \"gender\": \"male\",\n",
      "            \"hair_color\": \"none\",\n",
      "            \"height\": \"202\",\n",
      "            \"homeworld\": \"https://swapi.co/api/planets/1/\",\n",
      "            \"mass\": \"136\",\n",
      "            \"name\": \"Darth Vader\",\n",
      "            \"skin_color\": \"white\",\n",
      "            \"species\": [\n",
      "                \"https://swapi.co/api/species/1/\"\n",
      "            ],\n",
      "            \"starships\": [\n",
      "                \"https://swapi.co/api/starships/13/\"\n",
      "            ],\n",
      "            \"url\": \"https://swapi.co/api/people/4/\",\n",
      "            \"vehicles\": []\n",
      "        },\n",
      "        {\n",
      "            \"birth_year\": \"19BBY\",\n",
      "            \"created\": \"2014-12-10T15:20:09.791000Z\",\n",
      "            \"edited\": \"2014-12-20T21:17:50.315000Z\",\n",
      "            \"eye_color\": \"brown\",\n",
      "            \"films\": [\n",
      "                \"https://swapi.co/api/films/2/\",\n",
      "                \"https://swapi.co/api/films/6/\",\n",
      "                \"https://swapi.co/api/films/3/\",\n",
      "                \"https://swapi.co/api/films/1/\",\n",
      "                \"https://swapi.co/api/films/7/\"\n",
      "            ],\n",
      "            \"gender\": \"female\",\n",
      "            \"hair_color\": \"brown\",\n",
      "            \"height\": \"150\",\n",
      "            \"homeworld\": \"https://swapi.co/api/planets/2/\",\n",
      "            \"mass\": \"49\",\n",
      "            \"name\": \"Leia Organa\",\n",
      "            \"skin_color\": \"light\",\n",
      "            \"species\": [\n",
      "                \"https://swapi.co/api/species/1/\"\n",
      "            ],\n",
      "            \"starships\": [],\n",
      "            \"url\": \"https://swapi.co/api/people/5/\",\n",
      "            \"vehicles\": [\n",
      "                \"https://swapi.co/api/vehicles/30/\"\n",
      "            ]\n",
      "        },\n",
      "        {\n",
      "            \"birth_year\": \"52BBY\",\n",
      "            \"created\": \"2014-12-10T15:52:14.024000Z\",\n",
      "            \"edited\": \"2014-12-20T21:17:50.317000Z\",\n",
      "            \"eye_color\": \"blue\",\n",
      "            \"films\": [\n",
      "                \"https://swapi.co/api/films/5/\",\n",
      "                \"https://swapi.co/api/films/6/\",\n",
      "                \"https://swapi.co/api/films/1/\"\n",
      "            ],\n",
      "            \"gender\": \"male\",\n",
      "            \"hair_color\": \"brown, grey\",\n",
      "            \"height\": \"178\",\n",
      "            \"homeworld\": \"https://swapi.co/api/planets/1/\",\n",
      "            \"mass\": \"120\",\n",
      "            \"name\": \"Owen Lars\",\n",
      "            \"skin_color\": \"light\",\n",
      "            \"species\": [\n",
      "                \"https://swapi.co/api/species/1/\"\n",
      "            ],\n",
      "            \"starships\": [],\n",
      "            \"url\": \"https://swapi.co/api/people/6/\",\n",
      "            \"vehicles\": []\n",
      "        },\n",
      "        {\n",
      "            \"birth_year\": \"47BBY\",\n",
      "            \"created\": \"2014-12-10T15:53:41.121000Z\",\n",
      "            \"edited\": \"2014-12-20T21:17:50.319000Z\",\n",
      "            \"eye_color\": \"blue\",\n",
      "            \"films\": [\n",
      "                \"https://swapi.co/api/films/5/\",\n",
      "                \"https://swapi.co/api/films/6/\",\n",
      "                \"https://swapi.co/api/films/1/\"\n",
      "            ],\n",
      "            \"gender\": \"female\",\n",
      "            \"hair_color\": \"brown\",\n",
      "            \"height\": \"165\",\n",
      "            \"homeworld\": \"https://swapi.co/api/planets/1/\",\n",
      "            \"mass\": \"75\",\n",
      "            \"name\": \"Beru Whitesun lars\",\n",
      "            \"skin_color\": \"light\",\n",
      "            \"species\": [\n",
      "                \"https://swapi.co/api/species/1/\"\n",
      "            ],\n",
      "            \"starships\": [],\n",
      "            \"url\": \"https://swapi.co/api/people/7/\",\n",
      "            \"vehicles\": []\n",
      "        },\n",
      "        {\n",
      "            \"birth_year\": \"unknown\",\n",
      "            \"created\": \"2014-12-10T15:57:50.959000Z\",\n",
      "            \"edited\": \"2014-12-20T21:17:50.321000Z\",\n",
      "            \"eye_color\": \"red\",\n",
      "            \"films\": [\n",
      "                \"https://swapi.co/api/films/1/\"\n",
      "            ],\n",
      "            \"gender\": \"n/a\",\n",
      "            \"hair_color\": \"n/a\",\n",
      "            \"height\": \"97\",\n",
      "            \"homeworld\": \"https://swapi.co/api/planets/1/\",\n",
      "            \"mass\": \"32\",\n",
      "            \"name\": \"R5-D4\",\n",
      "            \"skin_color\": \"white, red\",\n",
      "            \"species\": [\n",
      "                \"https://swapi.co/api/species/2/\"\n",
      "            ],\n",
      "            \"starships\": [],\n",
      "            \"url\": \"https://swapi.co/api/people/8/\",\n",
      "            \"vehicles\": []\n",
      "        },\n",
      "        {\n",
      "            \"birth_year\": \"24BBY\",\n",
      "            \"created\": \"2014-12-10T15:59:50.509000Z\",\n",
      "            \"edited\": \"2014-12-20T21:17:50.323000Z\",\n",
      "            \"eye_color\": \"brown\",\n",
      "            \"films\": [\n",
      "                \"https://swapi.co/api/films/1/\"\n",
      "            ],\n",
      "            \"gender\": \"male\",\n",
      "            \"hair_color\": \"black\",\n",
      "            \"height\": \"183\",\n",
      "            \"homeworld\": \"https://swapi.co/api/planets/1/\",\n",
      "            \"mass\": \"84\",\n",
      "            \"name\": \"Biggs Darklighter\",\n",
      "            \"skin_color\": \"light\",\n",
      "            \"species\": [\n",
      "                \"https://swapi.co/api/species/1/\"\n",
      "            ],\n",
      "            \"starships\": [\n",
      "                \"https://swapi.co/api/starships/12/\"\n",
      "            ],\n",
      "            \"url\": \"https://swapi.co/api/people/9/\",\n",
      "            \"vehicles\": []\n",
      "        },\n",
      "        {\n",
      "            \"birth_year\": \"57BBY\",\n",
      "            \"created\": \"2014-12-10T16:16:29.192000Z\",\n",
      "            \"edited\": \"2014-12-20T21:17:50.325000Z\",\n",
      "            \"eye_color\": \"blue-gray\",\n",
      "            \"films\": [\n",
      "                \"https://swapi.co/api/films/2/\",\n",
      "                \"https://swapi.co/api/films/5/\",\n",
      "                \"https://swapi.co/api/films/4/\",\n",
      "                \"https://swapi.co/api/films/6/\",\n",
      "                \"https://swapi.co/api/films/3/\",\n",
      "                \"https://swapi.co/api/films/1/\"\n",
      "            ],\n",
      "            \"gender\": \"male\",\n",
      "            \"hair_color\": \"auburn, white\",\n",
      "            \"height\": \"182\",\n",
      "            \"homeworld\": \"https://swapi.co/api/planets/20/\",\n",
      "            \"mass\": \"77\",\n",
      "            \"name\": \"Obi-Wan Kenobi\",\n",
      "            \"skin_color\": \"fair\",\n",
      "            \"species\": [\n",
      "                \"https://swapi.co/api/species/1/\"\n",
      "            ],\n",
      "            \"starships\": [\n",
      "                \"https://swapi.co/api/starships/48/\",\n",
      "                \"https://swapi.co/api/starships/59/\",\n",
      "                \"https://swapi.co/api/starships/64/\",\n",
      "                \"https://swapi.co/api/starships/65/\",\n",
      "                \"https://swapi.co/api/starships/74/\"\n",
      "            ],\n",
      "            \"url\": \"https://swapi.co/api/people/10/\",\n",
      "            \"vehicles\": [\n",
      "                \"https://swapi.co/api/vehicles/38/\"\n",
      "            ]\n",
      "        }\n",
      "    ]\n",
      "}\n"
     ]
    }
   ],
   "source": [
    "# URL for GET requests to retrieve Star Wars character data\n",
    "base_url = \"https://swapi.co/api/people/\"\n",
    "people_url = base_url + \"4\"\n",
    "response = requests.get(base_url)\n",
    "data_people = response.json()\n",
    "print(json.dumps(data_people, indent=4, sort_keys=True))"
   ]
  },
  {
   "cell_type": "code",
   "execution_count": 43,
   "metadata": {},
   "outputs": [
    {
     "name": "stdout",
     "output_type": "stream",
     "text": [
      "https://swapi.co/api/people/4\n"
     ]
    }
   ],
   "source": [
    "# Create a url with a specific character id\n",
    "character_id = '4'\n",
    "url = base_url + character_id\n",
    "print(url)"
   ]
  },
  {
   "cell_type": "code",
   "execution_count": 44,
   "metadata": {},
   "outputs": [
    {
     "name": "stdout",
     "output_type": "stream",
     "text": [
      "https://swapi.co/api/people/4/\n"
     ]
    }
   ],
   "source": [
    "# Perform a get request for this character\n",
    "response = requests.get(url)\n",
    "print(response.url)"
   ]
  },
  {
   "cell_type": "code",
   "execution_count": 45,
   "metadata": {},
   "outputs": [],
   "source": [
    "# Storing the JSON response within a variable\n",
    "data = response.json()"
   ]
  },
  {
   "cell_type": "code",
   "execution_count": 46,
   "metadata": {},
   "outputs": [
    {
     "name": "stdout",
     "output_type": "stream",
     "text": [
      "Darth Vader\n"
     ]
    }
   ],
   "source": [
    "# Collecting the name of the character collected\n",
    "print(data[\"name\"])\n"
   ]
  },
  {
   "cell_type": "code",
   "execution_count": 47,
   "metadata": {},
   "outputs": [
    {
     "name": "stdout",
     "output_type": "stream",
     "text": [
      "Darth Vader has 4 films\n"
     ]
    }
   ],
   "source": [
    "# Print the character and the number of films that they were in\n",
    "# YOUR CODE HERE\n",
    "number_films = len(data[\"films\"])\n",
    "character_name = data[\"name\"]\n",
    "print(f'{character_name} has {number_films} films')"
   ]
  },
  {
   "cell_type": "code",
   "execution_count": 56,
   "metadata": {},
   "outputs": [
    {
     "data": {
      "text/plain": [
       "'TIE Advanced x1'"
      ]
     },
     "execution_count": 56,
     "metadata": {},
     "output_type": "execute_result"
    }
   ],
   "source": [
    "# Figure out what their first starship was and print the ship\n",
    "# YOUR CODE HERE\n",
    "first_ship = data[\"starships\"][0]\n",
    "ship_response = requests.get(first_ship)\n",
    "ship_json = ship_response.json()\n",
    "#ship_response\n",
    "ship_json[\"name\"]"
   ]
  },
  {
   "cell_type": "code",
   "execution_count": 24,
   "metadata": {},
   "outputs": [
    {
     "data": {
      "text/plain": [
       "'TIE Advanced x1'"
      ]
     },
     "execution_count": 24,
     "metadata": {},
     "output_type": "execute_result"
    }
   ],
   "source": [
    "# Print character name and how many films they were in\n",
    "# YOUR CODE HERE\n",
    "first_ship_x = ship_response[\"name\"]\n",
    "first_ship_x\n"
   ]
  },
  {
   "cell_type": "code",
   "execution_count": 59,
   "metadata": {},
   "outputs": [
    {
     "name": "stdout",
     "output_type": "stream",
     "text": [
      "['The Empire Strikes Back', 'Revenge of the Sith', 'Return of the Jedi', 'A New Hope']\n"
     ]
    }
   ],
   "source": [
    "#display all films character participated in \n",
    "\n",
    "films_participated = []\n",
    "\n",
    "for film in data[\"films\"]:\n",
    "    film_response = requests.get(film)\n",
    "    film_json = film_response.json()\n",
    "    films_participated.append(film_json[\"title\"])\n",
    "print(films_participated)\n",
    "\n"
   ]
  },
  {
   "cell_type": "code",
   "execution_count": null,
   "metadata": {},
   "outputs": [],
   "source": []
  }
 ],
 "metadata": {
  "kernelspec": {
   "display_name": "Python 3",
   "language": "python",
   "name": "python3"
  },
  "language_info": {
   "codemirror_mode": {
    "name": "ipython",
    "version": 3
   },
   "file_extension": ".py",
   "mimetype": "text/x-python",
   "name": "python",
   "nbconvert_exporter": "python",
   "pygments_lexer": "ipython3",
   "version": "3.7.3"
  },
  "varInspector": {
   "cols": {
    "lenName": 16,
    "lenType": 16,
    "lenVar": 40
   },
   "kernels_config": {
    "python": {
     "delete_cmd_postfix": "",
     "delete_cmd_prefix": "del ",
     "library": "var_list.py",
     "varRefreshCmd": "print(var_dic_list())"
    },
    "r": {
     "delete_cmd_postfix": ") ",
     "delete_cmd_prefix": "rm(",
     "library": "var_list.r",
     "varRefreshCmd": "cat(var_dic_list()) "
    }
   },
   "types_to_exclude": [
    "module",
    "function",
    "builtin_function_or_method",
    "instance",
    "_Feature"
   ],
   "window_display": false
  }
 },
 "nbformat": 4,
 "nbformat_minor": 2
}
